{
 "cells": [
  {
   "cell_type": "code",
   "execution_count": 195,
   "metadata": {},
   "outputs": [],
   "source": [
    "# Import packages\n",
    "import pandas as pd\n",
    "import numpy as np\n",
    "import matplotlib.pyplot as plt\n",
    "import seaborn as sns\n",
    "%matplotlib inline"
   ]
  },
  {
   "cell_type": "code",
   "execution_count": 196,
   "metadata": {},
   "outputs": [],
   "source": [
    "# Import datasets\n",
    "delay = pd.read_csv('data/all_years.csv', delimiter='\\t')\n",
    "codes_srt = pd.read_csv('data/codes_srt.csv', delimiter='\\t')\n",
    "codes_sub = pd.read_csv('data/codes_sub.csv', delimiter='\\t')\n",
    "station_names = pd.read_csv('data/station_names.csv')\n",
    "codes_bins = pd.read_csv('data/codes_bins.csv')\n",
    "\n",
    "# Merge Datasets\n",
    "delay = pd.merge(left=delay, right=codes_srt, how='left', left_on=delay['Code'], \n",
    "        right_on=codes_srt['SRT RMENU CODE']).drop(columns='key_0',axis=1)\n",
    "\n",
    "delay = pd.merge(left=delay, right=codes_sub, how='left', \n",
    "                left_on=delay['Code'], right_on=codes_sub['SUB RMENU CODE']).drop(columns='key_0', axis=1)\n",
    "\n",
    "delay = pd.merge(left=delay, right=station_names, how='left',\n",
    "                left_on=delay['Station'], right_on=station_names['data_station']).drop(columns=['Unnamed: 0','key_0','data_station'],axis=1)\n",
    "\n",
    "# Create Combo Code Column\n",
    "delay['combo code'] = delay['CODE DESCRIPTION_y'].fillna(delay['CODE DESCRIPTION_y'])\n",
    "\n",
    "delay = pd.merge(left=delay, right=codes_bins, how='left', left_on=delay['combo code'], \n",
    "                right_on=codes_bins['combo code']).drop(columns=['key_0','combo code_x'], axis=1)\n",
    "delay = delay.rename(columns={'combo code_y': 'combo code'})"
   ]
  },
  {
   "cell_type": "code",
   "execution_count": 197,
   "metadata": {},
   "outputs": [
    {
     "name": "stderr",
     "output_type": "stream",
     "text": [
      "C:\\Users\\kyleb\\AppData\\Local\\Continuum\\anaconda3\\lib\\site-packages\\ipykernel_launcher.py:5: SettingWithCopyWarning: \n",
      "A value is trying to be set on a copy of a slice from a DataFrame.\n",
      "Try using .loc[row_indexer,col_indexer] = value instead\n",
      "\n",
      "See the caveats in the documentation: http://pandas.pydata.org/pandas-docs/stable/indexing.html#indexing-view-versus-copy\n",
      "  \"\"\"\n"
     ]
    }
   ],
   "source": [
    "# Filter dataset\n",
    "colList = ['Date','Time','Day','Code','Station','Min Delay','Min Gap','Bound','Line','Vehicle','real_station','location','real_line','combo code', 'code bin']\n",
    "df = delay[colList]\n",
    "\n",
    "df['real_line'] = df['real_line'].fillna(df['Line'])"
   ]
  },
  {
   "cell_type": "code",
   "execution_count": 198,
   "metadata": {},
   "outputs": [
    {
     "data": {
      "text/html": [
       "<div>\n",
       "<style scoped>\n",
       "    .dataframe tbody tr th:only-of-type {\n",
       "        vertical-align: middle;\n",
       "    }\n",
       "\n",
       "    .dataframe tbody tr th {\n",
       "        vertical-align: top;\n",
       "    }\n",
       "\n",
       "    .dataframe thead th {\n",
       "        text-align: right;\n",
       "    }\n",
       "</style>\n",
       "<table border=\"1\" class=\"dataframe\">\n",
       "  <thead>\n",
       "    <tr style=\"text-align: right;\">\n",
       "      <th></th>\n",
       "      <th>Date</th>\n",
       "      <th>Time</th>\n",
       "      <th>Day</th>\n",
       "      <th>Code</th>\n",
       "      <th>Station</th>\n",
       "      <th>Min Delay</th>\n",
       "      <th>Min Gap</th>\n",
       "      <th>Bound</th>\n",
       "      <th>Line</th>\n",
       "      <th>Vehicle</th>\n",
       "      <th>real_station</th>\n",
       "      <th>location</th>\n",
       "      <th>real_line</th>\n",
       "      <th>combo code</th>\n",
       "      <th>code bin</th>\n",
       "    </tr>\n",
       "  </thead>\n",
       "  <tbody>\n",
       "    <tr>\n",
       "      <th>0</th>\n",
       "      <td>2014-01-01</td>\n",
       "      <td>00:21</td>\n",
       "      <td>Wednesday</td>\n",
       "      <td>MUPR1</td>\n",
       "      <td>VICTORIA PARK STATION</td>\n",
       "      <td>55</td>\n",
       "      <td>60</td>\n",
       "      <td>W</td>\n",
       "      <td>BD</td>\n",
       "      <td>5111</td>\n",
       "      <td>victoria park</td>\n",
       "      <td>Station</td>\n",
       "      <td>BD</td>\n",
       "      <td>Priority One - Train in Contact With Person</td>\n",
       "      <td>Accident</td>\n",
       "    </tr>\n",
       "    <tr>\n",
       "      <th>1</th>\n",
       "      <td>2014-01-01</td>\n",
       "      <td>02:06</td>\n",
       "      <td>Wednesday</td>\n",
       "      <td>SUDP</td>\n",
       "      <td>HIGH PARK STATION</td>\n",
       "      <td>3</td>\n",
       "      <td>7</td>\n",
       "      <td>W</td>\n",
       "      <td>BD</td>\n",
       "      <td>5001</td>\n",
       "      <td>high park</td>\n",
       "      <td>Station</td>\n",
       "      <td>BD</td>\n",
       "      <td>Disorderly Patron</td>\n",
       "      <td>Disorderly Patron</td>\n",
       "    </tr>\n",
       "    <tr>\n",
       "      <th>2</th>\n",
       "      <td>2014-01-01</td>\n",
       "      <td>02:40</td>\n",
       "      <td>Wednesday</td>\n",
       "      <td>MUNCA</td>\n",
       "      <td>SHEPPARD STATION</td>\n",
       "      <td>0</td>\n",
       "      <td>0</td>\n",
       "      <td>NaN</td>\n",
       "      <td>YU</td>\n",
       "      <td>0</td>\n",
       "      <td>sheppard</td>\n",
       "      <td>Station</td>\n",
       "      <td>YU</td>\n",
       "      <td>NaN</td>\n",
       "      <td>NaN</td>\n",
       "    </tr>\n",
       "    <tr>\n",
       "      <th>3</th>\n",
       "      <td>2014-01-01</td>\n",
       "      <td>03:10</td>\n",
       "      <td>Wednesday</td>\n",
       "      <td>SUDP</td>\n",
       "      <td>LANSDOWNE STATION</td>\n",
       "      <td>3</td>\n",
       "      <td>8</td>\n",
       "      <td>W</td>\n",
       "      <td>BD</td>\n",
       "      <td>5116</td>\n",
       "      <td>lansdowne</td>\n",
       "      <td>Station</td>\n",
       "      <td>BD</td>\n",
       "      <td>Disorderly Patron</td>\n",
       "      <td>Disorderly Patron</td>\n",
       "    </tr>\n",
       "    <tr>\n",
       "      <th>4</th>\n",
       "      <td>2014-01-01</td>\n",
       "      <td>03:20</td>\n",
       "      <td>Wednesday</td>\n",
       "      <td>MUSAN</td>\n",
       "      <td>BLOOR STATION</td>\n",
       "      <td>5</td>\n",
       "      <td>10</td>\n",
       "      <td>S</td>\n",
       "      <td>YU</td>\n",
       "      <td>5386</td>\n",
       "      <td>bloor</td>\n",
       "      <td>Station</td>\n",
       "      <td>YU</td>\n",
       "      <td>Unsanitary Vehicle</td>\n",
       "      <td>Unsantiary Vehicle</td>\n",
       "    </tr>\n",
       "  </tbody>\n",
       "</table>\n",
       "</div>"
      ],
      "text/plain": [
       "         Date   Time        Day   Code                Station  Min Delay  \\\n",
       "0  2014-01-01  00:21  Wednesday  MUPR1  VICTORIA PARK STATION         55   \n",
       "1  2014-01-01  02:06  Wednesday   SUDP      HIGH PARK STATION          3   \n",
       "2  2014-01-01  02:40  Wednesday  MUNCA       SHEPPARD STATION          0   \n",
       "3  2014-01-01  03:10  Wednesday   SUDP      LANSDOWNE STATION          3   \n",
       "4  2014-01-01  03:20  Wednesday  MUSAN          BLOOR STATION          5   \n",
       "\n",
       "   Min Gap Bound Line  Vehicle   real_station location real_line  \\\n",
       "0       60     W   BD     5111  victoria park  Station        BD   \n",
       "1        7     W   BD     5001      high park  Station        BD   \n",
       "2        0   NaN   YU        0       sheppard  Station        YU   \n",
       "3        8     W   BD     5116      lansdowne  Station        BD   \n",
       "4       10     S   YU     5386          bloor  Station        YU   \n",
       "\n",
       "                                    combo code            code bin  \n",
       "0  Priority One - Train in Contact With Person            Accident  \n",
       "1                            Disorderly Patron   Disorderly Patron  \n",
       "2                                          NaN                 NaN  \n",
       "3                            Disorderly Patron   Disorderly Patron  \n",
       "4                           Unsanitary Vehicle  Unsantiary Vehicle  "
      ]
     },
     "execution_count": 198,
     "metadata": {},
     "output_type": "execute_result"
    }
   ],
   "source": [
    "# What does our data look like\n",
    "df.head()"
   ]
  },
  {
   "cell_type": "markdown",
   "metadata": {},
   "source": [
    "# Missing Values"
   ]
  },
  {
   "cell_type": "code",
   "execution_count": 199,
   "metadata": {},
   "outputs": [
    {
     "data": {
      "text/plain": [
       "<matplotlib.axes._subplots.AxesSubplot at 0x2198039c978>"
      ]
     },
     "execution_count": 199,
     "metadata": {},
     "output_type": "execute_result"
    },
    {
     "data": {
      "image/png": "[encoded data removed]",
      "text/plain": [
       "<Figure size 432x288 with 1 Axes>"
      ]
     },
     "metadata": {},
     "output_type": "display_data"
    }
   ],
   "source": [
    "df.isnull().mean().sort_values().plot(kind='barh')"
   ]
  },
  {
   "cell_type": "markdown",
   "metadata": {},
   "source": [
    "### Bound\n",
    "- Directional in one direction, nulls can be expected as some delays are when subways are not in transit\n",
    "- Complete Nulls with 'NA'\n",
    "\n",
    "### real_station\n",
    "- some \"Station\" in original datasets are not real subway stations, therefore we can fill Nulls with 'Misc'\n",
    "\n",
    "### combo code\n",
    "- some delays are not reported with a reason\n",
    "- we cant complete this data\n",
    "- fill in all Nulls with 'misc'\n"
   ]
  },
  {
   "cell_type": "code",
   "execution_count": 200,
   "metadata": {},
   "outputs": [
    {
     "name": "stderr",
     "output_type": "stream",
     "text": [
      "C:\\Users\\kyleb\\AppData\\Local\\Continuum\\anaconda3\\lib\\site-packages\\ipykernel_launcher.py:2: SettingWithCopyWarning: \n",
      "A value is trying to be set on a copy of a slice from a DataFrame.\n",
      "Try using .loc[row_indexer,col_indexer] = value instead\n",
      "\n",
      "See the caveats in the documentation: http://pandas.pydata.org/pandas-docs/stable/indexing.html#indexing-view-versus-copy\n",
      "  \n",
      "C:\\Users\\kyleb\\AppData\\Local\\Continuum\\anaconda3\\lib\\site-packages\\ipykernel_launcher.py:3: SettingWithCopyWarning: \n",
      "A value is trying to be set on a copy of a slice from a DataFrame.\n",
      "Try using .loc[row_indexer,col_indexer] = value instead\n",
      "\n",
      "See the caveats in the documentation: http://pandas.pydata.org/pandas-docs/stable/indexing.html#indexing-view-versus-copy\n",
      "  This is separate from the ipykernel package so we can avoid doing imports until\n",
      "C:\\Users\\kyleb\\AppData\\Local\\Continuum\\anaconda3\\lib\\site-packages\\ipykernel_launcher.py:4: SettingWithCopyWarning: \n",
      "A value is trying to be set on a copy of a slice from a DataFrame.\n",
      "Try using .loc[row_indexer,col_indexer] = value instead\n",
      "\n",
      "See the caveats in the documentation: http://pandas.pydata.org/pandas-docs/stable/indexing.html#indexing-view-versus-copy\n",
      "  after removing the cwd from sys.path.\n"
     ]
    }
   ],
   "source": [
    "# Fill in Missing Values\n",
    "df['Bound'] = df['Bound'].fillna('NA')\n",
    "df['real_station'] = df['real_station'].fillna('Misc')\n",
    "df['combo code'] = df['combo code'].fillna('Misc')"
   ]
  },
  {
   "cell_type": "code",
   "execution_count": 201,
   "metadata": {},
   "outputs": [
    {
     "name": "stdout",
     "output_type": "stream",
     "text": [
      "<class 'pandas.core.frame.DataFrame'>\n",
      "Int64Index: 97677 entries, 0 to 97676\n",
      "Data columns (total 15 columns):\n",
      "Date            97677 non-null object\n",
      "Time            97677 non-null object\n",
      "Day             97677 non-null object\n",
      "Code            97676 non-null object\n",
      "Station         97677 non-null object\n",
      "Min Delay       97677 non-null int64\n",
      "Min Gap         97677 non-null int64\n",
      "Bound           97677 non-null object\n",
      "Line            97277 non-null object\n",
      "Vehicle         97677 non-null int64\n",
      "real_station    97677 non-null object\n",
      "location        97677 non-null object\n",
      "real_line       97525 non-null object\n",
      "combo code      97677 non-null object\n",
      "code bin        91956 non-null object\n",
      "dtypes: int64(3), object(12)\n",
      "memory usage: 11.9+ MB\n"
     ]
    }
   ],
   "source": [
    "# What are the Data Types we are working with?\n",
    "df.info()"
   ]
  },
  {
   "cell_type": "code",
   "execution_count": 202,
   "metadata": {},
   "outputs": [
    {
     "name": "stderr",
     "output_type": "stream",
     "text": [
      "C:\\Users\\kyleb\\AppData\\Local\\Continuum\\anaconda3\\lib\\site-packages\\ipykernel_launcher.py:2: SettingWithCopyWarning: \n",
      "A value is trying to be set on a copy of a slice from a DataFrame.\n",
      "Try using .loc[row_indexer,col_indexer] = value instead\n",
      "\n",
      "See the caveats in the documentation: http://pandas.pydata.org/pandas-docs/stable/indexing.html#indexing-view-versus-copy\n",
      "  \n"
     ]
    }
   ],
   "source": [
    "# Convert date to Datetime\n",
    "df['Date'] = pd.to_datetime(df['Date'])"
   ]
  },
  {
   "cell_type": "code",
   "execution_count": 203,
   "metadata": {},
   "outputs": [
    {
     "name": "stderr",
     "output_type": "stream",
     "text": [
      "C:\\Users\\kyleb\\AppData\\Local\\Continuum\\anaconda3\\lib\\site-packages\\ipykernel_launcher.py:1: SettingWithCopyWarning: \n",
      "A value is trying to be set on a copy of a slice from a DataFrame.\n",
      "Try using .loc[row_indexer,col_indexer] = value instead\n",
      "\n",
      "See the caveats in the documentation: http://pandas.pydata.org/pandas-docs/stable/indexing.html#indexing-view-versus-copy\n",
      "  \"\"\"Entry point for launching an IPython kernel.\n",
      "C:\\Users\\kyleb\\AppData\\Local\\Continuum\\anaconda3\\lib\\site-packages\\ipykernel_launcher.py:2: SettingWithCopyWarning: \n",
      "A value is trying to be set on a copy of a slice from a DataFrame.\n",
      "Try using .loc[row_indexer,col_indexer] = value instead\n",
      "\n",
      "See the caveats in the documentation: http://pandas.pydata.org/pandas-docs/stable/indexing.html#indexing-view-versus-copy\n",
      "  \n"
     ]
    }
   ],
   "source": [
    "df['Month'] = [i.month for i in df['Date']]\n",
    "df['Year'] = [i.year for i in df['Date']]"
   ]
  },
  {
   "cell_type": "code",
   "execution_count": null,
   "metadata": {},
   "outputs": [],
   "source": []
  },
  {
   "cell_type": "markdown",
   "metadata": {},
   "source": [
    "## Data Exploration"
   ]
  },
  {
   "cell_type": "code",
   "execution_count": 204,
   "metadata": {},
   "outputs": [
    {
     "data": {
      "text/plain": [
       "<matplotlib.axes._subplots.AxesSubplot at 0x2198127f710>"
      ]
     },
     "execution_count": 204,
     "metadata": {},
     "output_type": "execute_result"
    },
    {
     "data": {
      "image/png": "[encoded data removed]",
      "text/plain": [
       "<Figure size 1080x360 with 1 Axes>"
      ]
     },
     "metadata": {},
     "output_type": "display_data"
    }
   ],
   "source": [
    "# What are the most common types of Delays by Count\n",
    "df['code bin'].value_counts().sort_values(ascending=True).plot(kind='barh', figsize=(15,5), colormap='viridis')"
   ]
  },
  {
   "cell_type": "code",
   "execution_count": 205,
   "metadata": {},
   "outputs": [
    {
     "data": {
      "text/plain": [
       "<matplotlib.axes._subplots.AxesSubplot at 0x21981297b70>"
      ]
     },
     "execution_count": 205,
     "metadata": {},
     "output_type": "execute_result"
    },
    {
     "data": {
      "image/png": "[encoded data removed]",
      "text/plain": [
       "<Figure size 1080x360 with 1 Axes>"
      ]
     },
     "metadata": {},
     "output_type": "display_data"
    }
   ],
   "source": [
    "# What are the most common types of Delays by Min Delay\n",
    "df[['code bin','Min Delay']].groupby(\n",
    "    'code bin').sum().sort_values('Min Delay', ascending=True).plot(\n",
    "    kind='barh', figsize=(15,5), colormap='viridis')"
   ]
  },
  {
   "cell_type": "code",
   "execution_count": 206,
   "metadata": {},
   "outputs": [
    {
     "data": {
      "text/plain": [
       "<matplotlib.axes._subplots.AxesSubplot at 0x21981505cf8>"
      ]
     },
     "execution_count": 206,
     "metadata": {},
     "output_type": "execute_result"
    },
    {
     "data": {
      "image/png": "[encoded data removed]",
      "text/plain": [
       "<Figure size 1080x360 with 1 Axes>"
      ]
     },
     "metadata": {},
     "output_type": "display_data"
    }
   ],
   "source": [
    "# What are the most common types of Delays by Min Gap between trains\n",
    "df[['code bin','Min Gap']].groupby('code bin').sum().sort_values('Min Gap',\n",
    "                                                                ascending=True).plot(kind='barh',\n",
    "                                                                                    figsize=(15,5), colormap='viridis')"
   ]
  },
  {
   "cell_type": "code",
   "execution_count": 309,
   "metadata": {},
   "outputs": [],
   "source": [
    "# Convert minutes to Hours\n",
    "df['Min Delay Hours'] = df['Min Delay']/60\n",
    "df['Min Gap Hours'] = df['Min Gap']/60"
   ]
  },
  {
   "cell_type": "code",
   "execution_count": 310,
   "metadata": {},
   "outputs": [],
   "source": [
    "# Get Min Delay Hours Dataframes\n",
    "delay_hours = df[['Year','code bin','Min Delay Hours']].groupby(['Year','code bin']).sum()\n",
    "delay_counts = df[['Year','code bin','Min Delay Hours']].groupby(['Year','code bin']).count()"
   ]
  },
  {
   "cell_type": "code",
   "execution_count": 311,
   "metadata": {},
   "outputs": [],
   "source": [
    "delayHours_perAccident = delay_hours/delay_counts\n",
    "delayHours_perAccident = delayHours_perAccident.sort_values(['code bin','Year'])"
   ]
  },
  {
   "cell_type": "code",
   "execution_count": 312,
   "metadata": {},
   "outputs": [],
   "source": [
    "delayHours_perAccident = delayHours_perAccident.unstack().pct_change(4)\n"
   ]
  },
  {
   "cell_type": "code",
   "execution_count": 313,
   "metadata": {},
   "outputs": [],
   "source": [
    "delayHours_perAccident.columns = delayHours_perAccident.columns.droplevel()"
   ]
  },
  {
   "cell_type": "code",
   "execution_count": 323,
   "metadata": {},
   "outputs": [
    {
     "data": {
      "text/plain": [
       "<matplotlib.axes._subplots.AxesSubplot at 0x21986e17518>"
      ]
     },
     "execution_count": 323,
     "metadata": {},
     "output_type": "execute_result"
    },
    {
     "data": {
      "image/png": "[encoded data removed]",
      "text/plain": [
       "<Figure size 432x288 with 1 Axes>"
      ]
     },
     "metadata": {},
     "output_type": "display_data"
    }
   ],
   "source": [
    "delayHours_perAccident['Year'] = delayHours_perAccident.index\n",
    "cols = delayHours_perAccident.columns.tolist().append('Year')\n",
    "df2 = pd.melt(delayHours_perAccident, id_vars=['Year'], value_vars=cols)\n",
    "df2.index = df2['code bin']\n",
    "df2[['value']].dropna().sort_values('value',ascending=False).plot(kind='barh')"
   ]
  },
  {
   "cell_type": "code",
   "execution_count": null,
   "metadata": {},
   "outputs": [],
   "source": []
  },
  {
   "cell_type": "code",
   "execution_count": null,
   "metadata": {},
   "outputs": [],
   "source": []
  }
 ],
 "metadata": {
  "kernelspec": {
   "display_name": "Python 3",
   "language": "python",
   "name": "python3"
  },
  "language_info": {
   "codemirror_mode": {
    "name": "ipython",
    "version": 3
   },
   "file_extension": ".py",
   "mimetype": "text/x-python",
   "name": "python",
   "nbconvert_exporter": "python",
   "pygments_lexer": "ipython3",
   "version": "3.6.5"
  }
 },
 "nbformat": 4,
 "nbformat_minor": 2
}
